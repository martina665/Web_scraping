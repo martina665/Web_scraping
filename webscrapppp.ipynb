{
 "cells": [
  {
   "cell_type": "markdown",
   "metadata": {},
   "source": [
    "Obiettivo= webscrap i siti di giornale come ansa/ corriere della sera etc...\n",
    "Per ora= skytg24 succesfully scraped\n",
    "\n",
    "Codice:"
   ]
  },
  {
   "cell_type": "code",
   "execution_count": null,
   "metadata": {},
   "outputs": [],
   "source": [
    "#codice che viene = Skytg24:\n",
    "import requests\n",
    "from bs4 import BeautifulSoup\n",
    "import pandas as pd\n",
    "import time\n",
    "from datetime import datetime\n",
    "\n",
    "response = requests.get('https://tg24.sky.it/mondo')\n",
    "soup = BeautifulSoup(response.text)\n",
    "\n",
    "data = []\n",
    "\n",
    "for a in soup.find_all('a', {'class': 'c-card'}):\n",
    "\n",
    "    response = requests.get(a.get('href'))\n",
    "    asoup = BeautifulSoup(response.text)\n",
    "    data.append({\n",
    "        'Title': a.h2.get_text(strip=True),\n",
    "        'content': asoup.article.get_text(strip=True),\n",
    "        'PageLink': a.get('href'),        \n",
    "        'category': 'mondo',\n",
    "        'Date':datetime.now(),\n",
    "\n",
    "    })\n",
    "\n",
    "pd.DataFrame(data)"
   ]
  },
  {
   "cell_type": "markdown",
   "metadata": {},
   "source": [
    "Ansa:"
   ]
  },
  {
   "cell_type": "code",
   "execution_count": null,
   "metadata": {},
   "outputs": [],
   "source": [
    "import requests\n",
    "from tqdm import tqdm\n",
    "from bs4 import BeautifulSoup\n",
    "import pandas\n",
    "import pandas as pd\n",
    "\n",
    "\n",
    "url = \"https://www.ansa.it/sito/notizie/mondo/mondo.shtml\"\n",
    "soup = BeautifulSoup(requests.get(url).content, \"html.parser\")\n",
    "\n",
    "all_data = []\n",
    "for title in tqdm(soup.select(\"h3.news-title\")):\n",
    "    t = title.get_text(strip=True)\n",
    "    u = title.a[\"href\"]\n",
    "    s = BeautifulSoup(\n",
    "        requests.get(\"https://www.ansa.it\" + u).content, \"html.parser\"\n",
    "    )\n",
    "    text = s.select_one('[itemprop=\"articleBody\"]')\n",
    "    text = text.get_text(strip=True, separator=\"\\n\") if text else \"\"\n",
    "\n",
    "    all_data.append([t, text, u])\n",
    "\n",
    "\n",
    "df = pd.DataFrame(all_data, columns=[\"Title\", \"content\", \"PageLink\"])"
   ]
  }
 ],
 "metadata": {
  "kernelspec": {
   "display_name": "Python 3.10.4 ('webscrap')",
   "language": "python",
   "name": "python3"
  },
  "language_info": {
   "name": "python",
   "version": "3.10.4"
  },
  "orig_nbformat": 4,
  "vscode": {
   "interpreter": {
    "hash": "a4cf5878a4ec1d680f9f76bd95571ab97a310cf97db5940d832842dd4c6bf3c7"
   }
  }
 },
 "nbformat": 4,
 "nbformat_minor": 2
}
